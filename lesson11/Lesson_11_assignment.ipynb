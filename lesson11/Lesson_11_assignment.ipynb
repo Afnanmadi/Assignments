{
  "cells": [
    {
      "cell_type": "markdown",
      "metadata": {
        "id": "uUHIx3nGepnS"
      },
      "source": [
        "# **Assignment 11: Image Classification Using Random Forest**\n",
        "# **(Afnan Madi)**"
      ]
    },
    {
      "cell_type": "markdown",
      "metadata": {
        "id": "odAP7KXWesN5"
      },
      "source": [
        "# **Dataset Selection and Preprocessing**"
      ]
    },
    {
      "cell_type": "code",
      "execution_count": null,
      "metadata": {
        "id": "62YxFeXGt2zm"
      },
      "outputs": [],
      "source": [
        "## Step 1: Install TensorFlow\n",
        "!pip install tensorflow matplotlib seaborn scikit-learn --quiet"
      ]
    },
    {
      "cell_type": "code",
      "execution_count": null,
      "metadata": {
        "id": "kOsdeE9Zv5jb"
      },
      "outputs": [],
      "source": [
        "# Step 2: Import necessary functions from TensorFlow for image loading and processing\n",
        "from tensorflow.keras.preprocessing.image import load_img, img_to_array"
      ]
    },
    {
      "cell_type": "code",
      "execution_count": null,
      "metadata": {
        "id": "416FLVe3wIxp"
      },
      "outputs": [],
      "source": [
        "# Step 3: Define the class labels of the CIFAR-10 dataset\n",
        "class_labels = ['airplane', 'automobile', 'bird', 'cat', 'deer',\n",
        "                'dog', 'frog', 'horse', 'ship', 'truck']"
      ]
    },
    {
      "cell_type": "code",
      "execution_count": null,
      "metadata": {
        "id": "IY_OTtgFwTF3"
      },
      "outputs": [],
      "source": [
        "# Step 4: Define a function that takes an image path and predicts the class using the trained model\n",
        "def predict_new_image(image_path, model):\n",
        "    \"\"\"\n",
        "    Loads and preprocesses an image, then predicts its class using the given model.\n",
        "\n",
        "    Parameters:\n",
        "        image_path (str): Path to the input image file\n",
        "        model (sklearn classifier): Trained Random Forest classifier\n",
        "\n",
        "    Returns:\n",
        "        str: Predicted class label\n",
        "    \"\"\"\n",
        "    # Load image from the path and resize to 32x32 (CIFAR-10 size)\n",
        "    img = load_img(image_path, target_size=(32, 32))\n",
        "\n",
        "    # Convert the image to a NumPy array and normalize pixel values to [0, 1]\n",
        "    img_array = img_to_array(img) / 255.0\n",
        "\n",
        "    # Flatten the image to a 1D vector and reshape to match model input\n",
        "    img_flat = img_array.flatten().reshape(1, -1)\n",
        "\n",
        "    # Predict the class using the trained model\n",
        "    pred_class = model.predict(img_flat)[0]\n",
        "\n",
        "    # Return the corresponding class label\n",
        "    return class_labels[pred_class]"
      ]
    },
    {
      "cell_type": "code",
      "execution_count": null,
      "metadata": {
        "id": "A6KefUJJwvgF"
      },
      "outputs": [],
      "source": [
        "#Step 5:rediction on New Images\n",
        "from sklearn.ensemble import RandomForestClassifier\n",
        "from sklearn.model_selection import train_test_split, GridSearchCV\n",
        "from tensorflow.keras.datasets import cifar10\n",
        "\n",
        "# Load CIFAR-10 dataset\n",
        "(X_train, y_train), (X_test, y_test) = cifar10.load_data()\n",
        "\n",
        "# Normalize images\n",
        "X_train = X_train.astype('float32') / 255.0\n",
        "X_test = X_test.astype('float32') / 255.0\n",
        "\n",
        "# Flatten images\n",
        "X_train_flat = X_train.reshape((X_train.shape[0], -1))\n",
        "X_test_flat = X_test.reshape((X_test.shape[0], -1))\n",
        "\n",
        "# Flatten labels\n",
        "y_train = y_train.flatten()\n",
        "y_test = y_test.flatten()\n",
        "\n",
        "# Split training set into train/val\n",
        "X_train_split, X_val_split, y_train_split, y_val_split = train_test_split(\n",
        "    X_train_flat, y_train, test_size=0.2, random_state=42\n",
        ")\n",
        "\n",
        "# Define parameter grid\n",
        "param_grid = {\n",
        "    'n_estimators': [50],\n",
        "    'max_depth': [None],\n",
        "    'min_samples_split': [2],\n",
        "    'min_samples_leaf': [1]\n",
        "}\n",
        "\n",
        "# Train Random Forest with GridSearchCV\n",
        "rf = RandomForestClassifier(random_state=42)\n",
        "grid = GridSearchCV(rf, param_grid, cv=3)\n",
        "grid.fit(X_train_split, y_train_split)\n",
        "\n",
        "# Save best model\n",
        "best_rf = grid.best_estimator_\n"
      ]
    },
    {
      "cell_type": "code",
      "execution_count": null,
      "metadata": {
        "colab": {
          "base_uri": "https://localhost:8080/"
        },
        "id": "LfM6IrbjyYJy",
        "outputId": "7a5cf37d-5589-4503-9324-4f9c7b1c0608"
      },
      "outputs": [
        {
          "name": "stdout",
          "output_type": "stream",
          "text": [
            "Predicted class: truck\n"
          ]
        }
      ],
      "source": [
        "image_path = \"/content/image_0002.jpg\"\n",
        "predicted_class = predict_new_image(image_path, best_rf)\n",
        "print(\"Predicted class:\", predicted_class)"
      ]
    },
    {
      "cell_type": "code",
      "execution_count": 7,
      "metadata": {
        "id": "aL0MXqavzRek",
        "colab": {
          "base_uri": "https://localhost:8080/"
        },
        "outputId": "7d4f2f20-1447-48a8-9c71-8ea14715fb35"
      },
      "outputs": [
        {
          "output_type": "stream",
          "name": "stdout",
          "text": [
            "Downloading data from https://www.cs.toronto.edu/~kriz/cifar-10-python.tar.gz\n",
            "\u001b[1m170498071/170498071\u001b[0m \u001b[32m━━━━━━━━━━━━━━━━━━━━\u001b[0m\u001b[37m\u001b[0m \u001b[1m2s\u001b[0m 0us/step\n"
          ]
        }
      ],
      "source": [
        "# Re-import and re-split CIFAR-10\n",
        "from tensorflow.keras.datasets import cifar10\n",
        "from sklearn.model_selection import train_test_split\n",
        "\n",
        "# Load CIFAR-10 again\n",
        "(X_train, y_train), (X_test, y_test) = cifar10.load_data()\n",
        "\n",
        "# Normalize\n",
        "X_train = X_train.astype('float32') / 255.0\n",
        "X_test = X_test.astype('float32') / 255.0\n",
        "\n",
        "# Flatten\n",
        "X_train_flat = X_train.reshape((X_train.shape[0], -1))\n",
        "X_test_flat = X_test.reshape((X_test.shape[0], -1))\n",
        "\n",
        "# Flatten labels\n",
        "y_train = y_train.flatten()\n",
        "y_test = y_test.flatten()\n",
        "\n",
        "# Split for training and validation\n",
        "X_train_split, X_val_split, y_train_split, y_val_split = train_test_split(\n",
        "    X_train_flat, y_train, test_size=0.2, random_state=42\n",
        ")\n"
      ]
    },
    {
      "cell_type": "code",
      "source": [
        "# Use a smaller sample for faster SVM training\n",
        "X_small = X_train_split[:10000]\n",
        "y_small = y_train_split[:10000]\n",
        "\n",
        "# Train SVM\n",
        "svm_model = SVC(kernel='linear', C=1.0)\n",
        "svm_model.fit(X_small, y_small)\n",
        "\n",
        "# Predict on test set\n",
        "svm_predictions = svm_model.predict(X_test_flat)\n",
        "\n",
        "# Evaluate\n",
        "from sklearn.metrics import accuracy_score, classification_report, confusion_matrix\n",
        "print(\"Accuracy:\", accuracy_score(y_test, svm_predictions))\n",
        "print(\"\\nClassification Report:\\n\", classification_report(y_test, svm_predictions))\n",
        "print(\"\\nConfusion Matrix:\\n\", confusion_matrix(y_test, svm_predictions))"
      ],
      "metadata": {
        "id": "O09M0c9HoxmI"
      },
      "execution_count": null,
      "outputs": []
    }
  ],
  "metadata": {
    "colab": {
      "provenance": []
    },
    "kernelspec": {
      "display_name": "Python 3",
      "name": "python3"
    },
    "language_info": {
      "name": "python"
    }
  },
  "nbformat": 4,
  "nbformat_minor": 0
}