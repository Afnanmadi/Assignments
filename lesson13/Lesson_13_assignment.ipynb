{
  "cells": [
    {
      "cell_type": "markdown",
      "metadata": {
        "id": "ZaLhnbDnEWIe"
      },
      "source": [
        "# **Assignment 13: Generative AI Essentials**\n",
        "# **(Afnan Madi)**"
      ]
    },
    {
      "cell_type": "markdown",
      "source": [
        "# **1. Dataset Preparation**"
      ],
      "metadata": {
        "id": "7svgSZST1Rt5"
      }
    },
    {
      "cell_type": "code",
      "source": [
        "# Import required libraries\n",
        "import requests\n",
        "import numpy as np\n",
        "import tensorflow as tf\n",
        "import numpy as np\n",
        "import matplotlib.pyplot as plt\n",
        "from tensorflow.keras.preprocessing.text import Tokenizer\n",
        "from tensorflow.keras.preprocessing.sequence import pad_sequences\n",
        "\n",
        "\n",
        "\n",
        "# Download Alice in Wonderland text from Project Gutenberg\n",
        "url = \"https://www.gutenberg.org/files/11/11-0.txt\"\n",
        "response = requests.get(url)\n",
        "text = response.text.lower()\n",
        "\n",
        "# Clean the text\n",
        "text = text.replace('\\r', '').replace('\\n', ' ').replace('“', '').replace('”', '').replace('’', \"'\")\n",
        "print(text[:500])\n"
      ],
      "metadata": {
        "colab": {
          "base_uri": "https://localhost:8080/"
        },
        "id": "vUvNdCod1UTW",
        "outputId": "615ce07f-6094-423b-c13f-ddd981a9bd0a"
      },
      "execution_count": 10,
      "outputs": [
        {
          "output_type": "stream",
          "name": "stdout",
          "text": [
            "*** start of the project gutenberg ebook 11 ***  [illustration]     alice's adventures in wonderland  by lewis carroll  the millennium fulcrum edition 3.0  contents   chapter i.     down the rabbit-hole  chapter ii.    the pool of tears  chapter iii.   a caucus-race and a long tale  chapter iv.    the rabbit sends in a little bill  chapter v.     advice from a caterpillar  chapter vi.    pig and pepper  chapter vii.   a mad tea-party  chapter viii.  the queen's croquet-ground  chapter ix.    the\n"
          ]
        }
      ]
    },
    {
      "cell_type": "code",
      "source": [
        "#2. Tokenization & Sequence Generation\n",
        "from tensorflow.keras.preprocessing.text import Tokenizer\n",
        "from tensorflow.keras.preprocessing.sequence import pad_sequences\n",
        "\n",
        "# Tokenize the dataset\n",
        "tokenizer = Tokenizer()\n",
        "tokenizer.fit_on_texts([text])\n",
        "\n",
        "total_words = len(tokenizer.word_index) + 1\n",
        "\n",
        "# Generate sequences of words\n",
        "input_sequences = []\n",
        "words = text.split()\n",
        "for i in range(3, len(words)):\n",
        "    n_gram_sequence = words[i-3:i+1]\n",
        "    line = ' '.join(n_gram_sequence)\n",
        "    token_list = tokenizer.texts_to_sequences([line])[0]\n",
        "    input_sequences.append(token_list)\n",
        "\n",
        "# Pad sequences\n",
        "input_sequences = np.array(pad_sequences(input_sequences, maxlen=4, padding='pre'))\n",
        "\n",
        "# Split into predictors and label\n",
        "X, y = input_sequences[:,:-1], input_sequences[:,-1]\n",
        "y = tf.keras.utils.to_categorical(y, num_classes=total_words)\n"
      ],
      "metadata": {
        "id": "QapJ2nlk1tvy"
      },
      "execution_count": 6,
      "outputs": []
    },
    {
      "cell_type": "code",
      "source": [
        "#4. Build and Train the Model\n",
        "\n",
        "from tensorflow.keras.models import Sequential\n",
        "from tensorflow.keras.layers import Embedding, LSTM, Dense\n",
        "\n",
        "# Build a simple LSTM model\n",
        "model = Sequential()\n",
        "model.add(Embedding(total_words, 10, input_length=3))\n",
        "model.add(LSTM(100))\n",
        "model.add(Dense(total_words, activation='softmax'))\n",
        "\n",
        "model.compile(loss='categorical_crossentropy', optimizer='adam', metrics=['accuracy'])\n",
        "history = model.fit(X, y, epochs=10, verbose=1)"
      ],
      "metadata": {
        "colab": {
          "base_uri": "https://localhost:8080/"
        },
        "id": "uxosR14v2Vvc",
        "outputId": "4c250261-028a-423f-f1db-57939d29cff6"
      },
      "execution_count": 7,
      "outputs": [
        {
          "output_type": "stream",
          "name": "stderr",
          "text": [
            "/usr/local/lib/python3.11/dist-packages/keras/src/layers/core/embedding.py:90: UserWarning: Argument `input_length` is deprecated. Just remove it.\n",
            "  warnings.warn(\n"
          ]
        },
        {
          "output_type": "stream",
          "name": "stdout",
          "text": [
            "Epoch 1/10\n",
            "\u001b[1m830/830\u001b[0m \u001b[32m━━━━━━━━━━━━━━━━━━━━\u001b[0m\u001b[37m\u001b[0m \u001b[1m11s\u001b[0m 9ms/step - accuracy: 0.0615 - loss: 6.6861\n",
            "Epoch 2/10\n",
            "\u001b[1m830/830\u001b[0m \u001b[32m━━━━━━━━━━━━━━━━━━━━\u001b[0m\u001b[37m\u001b[0m \u001b[1m8s\u001b[0m 10ms/step - accuracy: 0.0610 - loss: 5.9856\n",
            "Epoch 3/10\n",
            "\u001b[1m830/830\u001b[0m \u001b[32m━━━━━━━━━━━━━━━━━━━━\u001b[0m\u001b[37m\u001b[0m \u001b[1m8s\u001b[0m 9ms/step - accuracy: 0.0639 - loss: 5.8512\n",
            "Epoch 4/10\n",
            "\u001b[1m830/830\u001b[0m \u001b[32m━━━━━━━━━━━━━━━━━━━━\u001b[0m\u001b[37m\u001b[0m \u001b[1m10s\u001b[0m 9ms/step - accuracy: 0.0736 - loss: 5.6785\n",
            "Epoch 5/10\n",
            "\u001b[1m830/830\u001b[0m \u001b[32m━━━━━━━━━━━━━━━━━━━━\u001b[0m\u001b[37m\u001b[0m \u001b[1m8s\u001b[0m 10ms/step - accuracy: 0.0771 - loss: 5.5748\n",
            "Epoch 6/10\n",
            "\u001b[1m830/830\u001b[0m \u001b[32m━━━━━━━━━━━━━━━━━━━━\u001b[0m\u001b[37m\u001b[0m \u001b[1m10s\u001b[0m 10ms/step - accuracy: 0.0810 - loss: 5.4334\n",
            "Epoch 7/10\n",
            "\u001b[1m830/830\u001b[0m \u001b[32m━━━━━━━━━━━━━━━━━━━━\u001b[0m\u001b[37m\u001b[0m \u001b[1m7s\u001b[0m 9ms/step - accuracy: 0.0888 - loss: 5.3464\n",
            "Epoch 8/10\n",
            "\u001b[1m830/830\u001b[0m \u001b[32m━━━━━━━━━━━━━━━━━━━━\u001b[0m\u001b[37m\u001b[0m \u001b[1m9s\u001b[0m 10ms/step - accuracy: 0.0955 - loss: 5.1921\n",
            "Epoch 9/10\n",
            "\u001b[1m830/830\u001b[0m \u001b[32m━━━━━━━━━━━━━━━━━━━━\u001b[0m\u001b[37m\u001b[0m \u001b[1m8s\u001b[0m 10ms/step - accuracy: 0.1109 - loss: 5.0422\n",
            "Epoch 10/10\n",
            "\u001b[1m830/830\u001b[0m \u001b[32m━━━━━━━━━━━━━━━━━━━━\u001b[0m\u001b[37m\u001b[0m \u001b[1m9s\u001b[0m 9ms/step - accuracy: 0.1180 - loss: 4.8840\n"
          ]
        }
      ]
    },
    {
      "cell_type": "code",
      "source": [
        "#5. Text Generation Function\n",
        "\n",
        "# Generate new text from seed\n",
        "def generate_text(seed_text, next_words=10):\n",
        "    for _ in range(next_words):\n",
        "        token_list = tokenizer.texts_to_sequences([seed_text])[0]\n",
        "        token_list = pad_sequences([token_list], maxlen=3, padding='pre')\n",
        "        predicted = model.predict(token_list, verbose=0)\n",
        "        output_word = tokenizer.index_word[np.argmax(predicted)]\n",
        "        seed_text += \" \" + output_word\n",
        "    return seed_text\n",
        "\n",
        "# Example generation\n",
        "print(generate_text(\"alice was sitting\", next_words=10))\n"
      ],
      "metadata": {
        "colab": {
          "base_uri": "https://localhost:8080/"
        },
        "id": "-HM2keSn3Wq2",
        "outputId": "7c4ff7f3-ed81-4439-ee53-30ca27c5a895"
      },
      "execution_count": 8,
      "outputs": [
        {
          "output_type": "stream",
          "name": "stdout",
          "text": [
            "alice was sitting on the other of the queen and the other of\n"
          ]
        }
      ]
    },
    {
      "cell_type": "code",
      "source": [
        "# Visualization (Loss Plot)\n",
        "\n",
        "# Plot training loss\n",
        "plt.plot(history.history['loss'])\n",
        "plt.title('Model Loss Over Epochs')\n",
        "plt.xlabel('Epoch')\n",
        "plt.ylabel('Loss')\n",
        "plt.show()"
      ],
      "metadata": {
        "colab": {
          "base_uri": "https://localhost:8080/",
          "height": 472
        },
        "id": "CpBKFtBr3i3x",
        "outputId": "964dba95-4e35-48ee-ea84-0813f74b4e92"
      },
      "execution_count": 11,
      "outputs": [
        {
          "output_type": "display_data",
          "data": {
            "text/plain": [
              "<Figure size 640x480 with 1 Axes>"
            ],
            "image/png": "[encoded data removed]"
          },
          "metadata": {}
        }
      ]
    }
  ],
  "metadata": {
    "colab": {
      "provenance": []
    },
    "kernelspec": {
      "display_name": "Python 3",
      "name": "python3"
    },
    "language_info": {
      "name": "python"
    }
  },
  "nbformat": 4,
  "nbformat_minor": 0
}